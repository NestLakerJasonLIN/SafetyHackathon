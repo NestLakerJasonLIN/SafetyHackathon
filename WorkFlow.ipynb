{
 "cells": [
  {
   "cell_type": "code",
   "execution_count": 135,
   "metadata": {},
   "outputs": [],
   "source": [
    "from bs4 import BeautifulSoup\n",
    "import pandas as pd\n",
    "import os\n",
    "import glob\n",
    "\n",
    "import numpy as np\n",
    "import matplotlib.pyplot as plt\n",
    "from datetime import datetime\n",
    "%matplotlib inline"
   ]
  },
  {
   "cell_type": "markdown",
   "metadata": {},
   "source": [
    "# 1. Data Preprocessing\n",
    "\n",
    "## 1.1 Parsing data "
   ]
  },
  {
   "cell_type": "code",
   "execution_count": null,
   "metadata": {},
   "outputs": [],
   "source": [
    "filenames = glob.glob(\"SensorData/*.xml\")\n",
    "\n",
    "for filename in filenames:\n",
    "    path =filename\n",
    "    filename = filename.replace(\"SensorData/\", \"\").replace(\".xml\", \"\")\n",
    "    with open(path) as f:\n",
    "        sp = BeautifulSoup(f, \"xml\")\n",
    "    \n",
    "    ##### find periodic doc #####\n",
    "    if 'PERIODIC' in filename:\n",
    "        \n",
    "        df_sensor = pd.DataFrame()\n",
    "        df_reading = pd.DataFrame()\n",
    "        \n",
    "        ##### find sensor data #####\n",
    "        if not sp.find_all('Sensor'):\n",
    "            print(\"no Sensor data for\", filename)\n",
    "\n",
    "        for sensor in sp.find_all('Sensor'):\n",
    "\n",
    "            if not sensor.Alarm:\n",
    "                print(\"no alarm data for:\", filename)\n",
    "\n",
    "            for alarm in sensor.Alarms.find_all('Alarm'):\n",
    "                ss = pd.Series()\n",
    "                ss['gas_units'] = sensor.GasUnits.text\n",
    "                ss['gas_type'] = sensor.GasType.text\n",
    "                ss['site'] = sensor.Site.text\n",
    "                ss['enabled'] = sensor.Enabled.text\n",
    "\n",
    "                ss['alarm_type'] = alarm.AlarmType.text\n",
    "                ss['enabled'] = alarm.Enabled.text\n",
    "                ss['latching'] = alarm.Latching.text\n",
    "                ss['setpoint'] = alarm.Setpoint.text\n",
    "\n",
    "                df_sensor = df_sensor.append(ss, ignore_index = True)\n",
    "        \n",
    "        ##### find reading data #####\n",
    "        if not sp.find_all('InstrumentRow'):\n",
    "            print(\"no instrument data for\", filename)\n",
    "\n",
    "        for instrument in sp.find_all('InstrumentRow'):\n",
    "\n",
    "            if not instrument.SensorReading:\n",
    "                print(\"no reading data for\", filename)\n",
    "                \n",
    "            for reading in instrument.Readings.find_all('SensorReading'):\n",
    "                ss = pd.Series()\n",
    "                ss['DateOccurred'] = instrument.DateOccurred.text\n",
    "                ss['Temperature'] = instrument.Temperature.text\n",
    "                ss['site'] = reading.Site.text\n",
    "                ss['Average'] = reading.Average.text\n",
    "                ss['Peak'] = reading.Peak.text\n",
    "\n",
    "                df_reading = df_reading.append(ss, ignore_index = True)\n",
    "        \n",
    "        df_sensor.to_csv('ProcessedCSV/{}_sensor.csv'.format(filename))\n",
    "        df_reading.to_csv('ProcessedCSV/{}_reading.csv'.format(filename))\n",
    "        \n",
    "            \n",
    "    ##### find session doc #####   \n",
    "    if 'SESSION' in filename:\n",
    "        \n",
    "        df_sensor = pd.DataFrame()\n",
    "        df_reading = pd.DataFrame()\n",
    "        \n",
    "        ##### find sensor data #####\n",
    "        if not sp.find_all('Sensor'):\n",
    "            print(\"no Sensor data for\", filename)\n",
    "\n",
    "        for sensor in sp.find_all('Sensor'):\n",
    "\n",
    "            if not sensor.Alarm:\n",
    "                print(\"no alarm data for:\", filename)\n",
    "\n",
    "            for alarm in sensor.Alarms.find_all('Alarm'):\n",
    "                ss = pd.Series()\n",
    "                ss['gas_units'] = sensor.GasUnits.text\n",
    "                ss['gas_type'] = sensor.GasType.text\n",
    "                ss['site'] = sensor.Site.text\n",
    "                ss['enabled'] = sensor.Enabled.text\n",
    "\n",
    "                ss['alarm_type'] = alarm.AlarmType.text\n",
    "                ss['enabled'] = alarm.Enabled.text\n",
    "                ss['latching'] = alarm.Latching.text\n",
    "                ss['setpoint'] = alarm.Setpoint.text\n",
    "\n",
    "                df_sensor = df_sensor.append(ss, ignore_index = True)\n",
    "        \n",
    "        ##### find reading data #####\n",
    "        if not sp.find_all('SingleSensorLog'):\n",
    "            print(\"no reading data for\", filename)\n",
    "            \n",
    "        for single_sensor in sp.find_all('SingleSensorLog'):\n",
    "            \n",
    "            for reading in single_sensor.find_all('SingleSensorRow'):\n",
    "                ss = pd.Series()\n",
    "                ss['TestType'] = single_sensor.TestType.text\n",
    "                ss['FoundValue'] = single_sensor.FoundValue.text\n",
    "                ss['ExpectedValue'] = single_sensor.ExpectedValue.text\n",
    "                ss['CylinderLot'] = single_sensor.CylinderLot.text\n",
    "                ss['CylinderPartNumber'] = single_sensor.CylinderPartNumber.text\n",
    "                ss['Site'] = single_sensor.Site.text\n",
    "                ss['GasUnit'] = single_sensor.GasUnit.text\n",
    "                ss['IsFailed'] = single_sensor.IsFailed.text\n",
    "                ss['Enabled'] = single_sensor.Enabled.text\n",
    "                ss['DatePerformedUtc'] = single_sensor.DatePerformedUtc.text\n",
    "                ss['Site'] = single_sensor.Site.text\n",
    "                \n",
    "                ss['DateOccurred'] = reading.DateOccurred.text\n",
    "                ss['DateOccurredUtc'] = reading.DateOccurredUtc.text\n",
    "                ss['Average'] = reading.Average.text\n",
    "                ss['Peak'] = reading.Peak.text\n",
    "                ss['Temperature'] = reading.Temperature.text\n",
    "            \n",
    "                df_reading = df_reading.append(ss, ignore_index = True)\n",
    "                \n",
    "        df_sensor.to_csv('ProcessedCSV/{}_sensor.csv'.format(filename))\n",
    "        df_reading.to_csv('ProcessedCSV/{}_reading.csv'.format(filename))\n",
    "        "
   ]
  },
  {
   "cell_type": "markdown",
   "metadata": {},
   "source": [
    "# 1.2 Data collapse"
   ]
  },
  {
   "cell_type": "code",
   "execution_count": null,
   "metadata": {},
   "outputs": [],
   "source": [
    "csvfiles = glob.glob(\"ProcessedCSV/*.csv\")\n",
    "dict_p = {}\n",
    "dict_s = {}\n",
    "\n",
    "for csvfile in csvfiles:\n",
    "    path = csvfile\n",
    "    csvname = csvfile.replace(\"ProcessedCSV/\", \"\").replace(\".csv\", \"\")\n",
    "\n",
    "    if \"PERIODIC\" in csvname:\n",
    "\n",
    "        ID = csvname.replace('PERIODIC-DETAILS-LIST-', '').replace('_', '').replace('reading', '').replace('sensor' ,'')\n",
    "        if ID not in dict_p:\n",
    "            dict_p[ID] = {}\n",
    "\n",
    "        if \"sensor\" in csvname:\n",
    "            df_p_sensor = pd.read_csv(path)\n",
    "            \n",
    "            df_p_sensor = df_p_sensor.drop(['Unnamed: 0'], axis=1)\n",
    "            \n",
    "            dict_p[ID]['sensor'] = df_p_sensor\n",
    "            \n",
    "        if \"reading\" in csvname:\n",
    "            df_p_reading = pd.read_csv(path)\n",
    "            df_p_reading = df_p_reading.drop(['Unnamed: 0'], axis=1)\n",
    "            dict_p[ID]['reading'] = df_p_reading\n",
    "            \n",
    "    if \"SESSION\" in csvname:\n",
    "        ID = csvname.replace('SESSION-ALARM-DETAILS-', '').replace('_', '').replace('reading', '').replace('sensor' ,'')\n",
    "        if ID not in dict_s:\n",
    "            dict_s[ID] = {}\n",
    "            \n",
    "        if \"sensor\" in csvname:\n",
    "            df_s_sensor = pd.read_csv(path)\n",
    "            df_s_sensor = df_s_sensor.drop(['Unnamed: 0'], axis=1)\n",
    "            dict_s[ID]['sensor'] = df_s_sensor\n",
    "            \n",
    "        if \"reading\" in csvname:\n",
    "            df_s_reading = pd.read_csv(path)\n",
    "            df_s_reading = df_s_reading.drop(['Unnamed: 0'], axis=1)\n",
    "            if 'Site' in df_s_reading:\n",
    "                df_s_reading['site'] = df_s_reading['Site']\n",
    "                df_s_reading = df_s_reading.drop(['Site'], axis=1)\n",
    "            dict_s[ID]['reading'] = df_s_reading\n",
    "            "
   ]
  },
  {
   "cell_type": "code",
   "execution_count": null,
   "metadata": {},
   "outputs": [],
   "source": [
    "lst_p = []\n",
    "lst_s = []\n",
    "\n",
    "for key, value in dict_p.items():\n",
    "    df_sensor_temp = value['sensor'].drop(['alarm_type', 'enabled', 'latching', 'setpoint'], axis=1).drop_duplicates().reset_index(drop=True)\n",
    "\n",
    "    if 'site' not in value['reading'] or 'site' not in df_sensor_temp:\n",
    "        continue\n",
    "    \n",
    "    lst_p.append(value['reading'].merge(df_sensor_temp, on = 'site'))\n",
    "\n",
    "for key, value in dict_s.items():\n",
    "    df_sensor_temp = value['sensor'].drop(['alarm_type', 'enabled', 'latching', 'setpoint'], axis=1).drop_duplicates().reset_index(drop=True)\n",
    "\n",
    "    if 'site' not in value['reading'].columns or 'site' not in df_sensor_temp.columns:\n",
    "        continue\n",
    "    \n",
    "    lst_s.append(value['reading'].merge(df_sensor_temp, on = 'site'))\n"
   ]
  },
  {
   "cell_type": "code",
   "execution_count": null,
   "metadata": {},
   "outputs": [],
   "source": [
    "df_p = pd.concat(lst_p).drop_duplicates().reset_index(drop=True)\n",
    "df_s = pd.concat(lst_s).drop_duplicates().reset_index(drop=True)"
   ]
  },
  {
   "cell_type": "code",
   "execution_count": null,
   "metadata": {},
   "outputs": [],
   "source": [
    "df_p.to_csv('ProcessedCSV/Collection/PERIODIC.csv', index = False)\n",
    "df_s.to_csv('ProcessedCSV/Collection/SESSION.csv', index = False)"
   ]
  },
  {
   "cell_type": "code",
   "execution_count": 99,
   "metadata": {},
   "outputs": [],
   "source": [
    "df_p = pd.read_csv('ProcessedCSV/Collection/PERIODIC.csv')\n",
    "df_s = pd.read_csv('ProcessedCSV/Collection/SESSION.csv')"
   ]
  },
  {
   "cell_type": "markdown",
   "metadata": {},
   "source": [
    "## 2. Feature Extraction"
   ]
  },
  {
   "cell_type": "code",
   "execution_count": 100,
   "metadata": {},
   "outputs": [
    {
     "name": "stdout",
     "output_type": "stream",
     "text": [
      "   Average         DateOccurred  Peak  Temperature  site gas_type   gas_units\n",
      "0     0.50  1/5/2018 2:33:15 PM  0.50           28     1  Methane  PercentLEL\n",
      "1     0.50  1/5/2018 2:34:15 PM  0.50           28     1  Methane  PercentLEL\n",
      "2     0.45  1/5/2018 2:35:15 PM  0.50           28     1  Methane  PercentLEL\n",
      "3     0.45  1/5/2018 2:36:15 PM  0.45           28     1  Methane  PercentLEL\n",
      "4     0.00  1/5/2018 2:33:15 PM  0.00           28     3       CO  PercentLEL\n",
      "   Average          DateOccurred  Peak  Temperature  site gas_type   gas_units\n",
      "0      0.0  1/26/2018 5:34:45 AM   0.0           24     1  Methane  PercentLEL\n",
      "1      0.0  1/26/2018 6:47:15 PM   0.0           26     1  Methane  PercentLEL\n",
      "2      0.0  1/26/2018 6:48:15 PM   0.0           26     1  Methane  PercentLEL\n",
      "3      0.0  1/26/2018 6:49:15 PM   0.0           26     1  Methane  PercentLEL\n",
      "4      0.0  1/26/2018 6:50:15 PM   0.0           26     1  Methane  PercentLEL\n"
     ]
    }
   ],
   "source": [
    "df_s = df_s[['Average', 'DateOccurred', 'Peak', 'Temperature', 'site', 'gas_type', 'gas_units']]\n",
    "print(df_s.head())\n",
    "print(df_p.head())"
   ]
  },
  {
   "cell_type": "code",
   "execution_count": 101,
   "metadata": {},
   "outputs": [
    {
     "data": {
      "text/html": [
       "<div>\n",
       "<table border=\"1\" class=\"dataframe\">\n",
       "  <thead>\n",
       "    <tr style=\"text-align: right;\">\n",
       "      <th></th>\n",
       "      <th>Average</th>\n",
       "      <th>DateOccurred</th>\n",
       "      <th>Peak</th>\n",
       "      <th>Temperature</th>\n",
       "      <th>site</th>\n",
       "      <th>gas_type</th>\n",
       "      <th>gas_units</th>\n",
       "      <th>Exist</th>\n",
       "    </tr>\n",
       "  </thead>\n",
       "  <tbody>\n",
       "    <tr>\n",
       "      <th>0</th>\n",
       "      <td>0.0</td>\n",
       "      <td>1/26/2018 5:34:45 AM</td>\n",
       "      <td>0.0</td>\n",
       "      <td>24</td>\n",
       "      <td>1</td>\n",
       "      <td>Methane</td>\n",
       "      <td>PercentLEL</td>\n",
       "      <td>-1</td>\n",
       "    </tr>\n",
       "    <tr>\n",
       "      <th>1</th>\n",
       "      <td>0.0</td>\n",
       "      <td>1/26/2018 6:47:15 PM</td>\n",
       "      <td>0.0</td>\n",
       "      <td>26</td>\n",
       "      <td>1</td>\n",
       "      <td>Methane</td>\n",
       "      <td>PercentLEL</td>\n",
       "      <td>-1</td>\n",
       "    </tr>\n",
       "    <tr>\n",
       "      <th>2</th>\n",
       "      <td>0.0</td>\n",
       "      <td>1/26/2018 6:48:15 PM</td>\n",
       "      <td>0.0</td>\n",
       "      <td>26</td>\n",
       "      <td>1</td>\n",
       "      <td>Methane</td>\n",
       "      <td>PercentLEL</td>\n",
       "      <td>-1</td>\n",
       "    </tr>\n",
       "    <tr>\n",
       "      <th>3</th>\n",
       "      <td>0.0</td>\n",
       "      <td>1/26/2018 6:49:15 PM</td>\n",
       "      <td>0.0</td>\n",
       "      <td>26</td>\n",
       "      <td>1</td>\n",
       "      <td>Methane</td>\n",
       "      <td>PercentLEL</td>\n",
       "      <td>-1</td>\n",
       "    </tr>\n",
       "    <tr>\n",
       "      <th>4</th>\n",
       "      <td>0.0</td>\n",
       "      <td>1/26/2018 6:50:15 PM</td>\n",
       "      <td>0.0</td>\n",
       "      <td>26</td>\n",
       "      <td>1</td>\n",
       "      <td>Methane</td>\n",
       "      <td>PercentLEL</td>\n",
       "      <td>-1</td>\n",
       "    </tr>\n",
       "  </tbody>\n",
       "</table>\n",
       "</div>"
      ],
      "text/plain": [
       "   Average          DateOccurred  Peak  Temperature  site gas_type  \\\n",
       "0      0.0  1/26/2018 5:34:45 AM   0.0           24     1  Methane   \n",
       "1      0.0  1/26/2018 6:47:15 PM   0.0           26     1  Methane   \n",
       "2      0.0  1/26/2018 6:48:15 PM   0.0           26     1  Methane   \n",
       "3      0.0  1/26/2018 6:49:15 PM   0.0           26     1  Methane   \n",
       "4      0.0  1/26/2018 6:50:15 PM   0.0           26     1  Methane   \n",
       "\n",
       "    gas_units  Exist  \n",
       "0  PercentLEL     -1  \n",
       "1  PercentLEL     -1  \n",
       "2  PercentLEL     -1  \n",
       "3  PercentLEL     -1  \n",
       "4  PercentLEL     -1  "
      ]
     },
     "execution_count": 101,
     "metadata": {},
     "output_type": "execute_result"
    }
   ],
   "source": [
    "df = pd.merge(df_p, df_s, on=['Average', 'DateOccurred', 'Peak', 'Temperature', 'site', 'gas_type', 'gas_units'], how='left', indicator='Exist')\n",
    "# df.drop('Rating', inplace=True, axis=1)\n",
    "df['Exist'] = np.where(df.Exist == 'both', 1, -1)\n",
    "df.head()"
   ]
  },
  {
   "cell_type": "code",
   "execution_count": 102,
   "metadata": {},
   "outputs": [],
   "source": [
    "df['DateOccurred'] = df['DateOccurred'].apply(lambda x: datetime.strptime(x.replace(\" AM\", \"\").replace(\" PM\", \"\"), '%m/%d/%Y %I:%M:%S'))"
   ]
  },
  {
   "cell_type": "code",
   "execution_count": 103,
   "metadata": {},
   "outputs": [],
   "source": [
    "df['sin_day_of_week'] = df['DateOccurred'].dt.weekday.apply(lambda x: np.sin(2*np.pi*x/7))\n",
    "df['cos_day_of_week'] = df['DateOccurred'].dt.weekday.apply(lambda x: np.cos(2*np.pi*x/7))\n",
    "df['sin_hour_of_day'] = df['DateOccurred'].dt.hour.apply(lambda x: np.sin(2*np.pi*x/24))\n",
    "df['cos_hour_of_day'] = df['DateOccurred'].dt.hour.apply(lambda x: np.cos(2*np.pi*x/24))\n",
    "df['sin_time_of_day'] = df['DateOccurred'].apply(lambda x: np.sin(2*np.pi*(float(x.strftime(\"%H\"))*60 + float(x.strftime(\"%M\")))/60/24))\n",
    "df['cos_time_of_day'] = df['DateOccurred'].apply(lambda x: np.cos(2*np.pi*(float(x.strftime(\"%H\"))*60 + float(x.strftime(\"%M\")))/60/24))\n",
    "df['weekday'] = df['DateOccurred'].dt.weekday.apply(lambda x: 0 if (x == 6 or x == 5) else 1)\n",
    "df = df.drop(['DateOccurred'],axis=1)"
   ]
  },
  {
   "cell_type": "code",
   "execution_count": 104,
   "metadata": {},
   "outputs": [],
   "source": [
    "dummy_gastype = pd.get_dummies(df['gas_type'])\n",
    "df = pd.concat([df, dummy_gastype], axis=1)\n",
    "df.drop(['gas_units', 'gas_type'], axis=1, inplace=True)"
   ]
  },
  {
   "cell_type": "code",
   "execution_count": 185,
   "metadata": {
    "scrolled": false
   },
   "outputs": [],
   "source": [
    "df['Average_hot'] = df['Average'].apply(lambda x: 1 if x > 0 else 0)\n",
    "df['Peak_hot'] = df['Peak'].apply(lambda x: 1 if x > 0 else 0)"
   ]
  },
  {
   "cell_type": "code",
   "execution_count": 188,
   "metadata": {},
   "outputs": [],
   "source": [
    "df = df.drop(['Average', 'Peak'], axis=1)"
   ]
  },
  {
   "cell_type": "code",
   "execution_count": 190,
   "metadata": {},
   "outputs": [],
   "source": [
    "df['Temperature'] = (df['Temperature'] - df['Temperature'].mean())/df['Temperature'].std()"
   ]
  },
  {
   "cell_type": "code",
   "execution_count": 198,
   "metadata": {},
   "outputs": [],
   "source": [
    "df_set = pd.concat([df[df['Exist']==-1].sample(n=500, axis=0), df[df['Exist']==1]])"
   ]
  },
  {
   "cell_type": "code",
   "execution_count": 208,
   "metadata": {},
   "outputs": [],
   "source": [
    "X = df_set.drop(['Exist'], axis=1)\n",
    "y = df_set['Exist']"
   ]
  },
  {
   "cell_type": "markdown",
   "metadata": {},
   "source": [
    "# 3. Model Construction\n",
    "\n",
    "## 3.1 Training model"
   ]
  },
  {
   "cell_type": "code",
   "execution_count": 209,
   "metadata": {},
   "outputs": [],
   "source": [
    "from sklearn.model_selection import train_test_split\n",
    "X_, X_test, y_, y_test = train_test_split(X, y, test_size = 0.3, random_state=0)\n",
    "X_train, X_cv, y_train, y_cv = train_test_split(X_, y_, test_size = 0.3, random_state=0)"
   ]
  },
  {
   "cell_type": "code",
   "execution_count": 214,
   "metadata": {},
   "outputs": [
    {
     "data": {
      "text/plain": [
       "LogisticRegression(C=1.0, class_weight=None, dual=False, fit_intercept=True,\n",
       "          intercept_scaling=1, max_iter=100, multi_class='ovr', n_jobs=1,\n",
       "          penalty='l2', random_state=None, solver='liblinear', tol=0.0001,\n",
       "          verbose=0, warm_start=False)"
      ]
     },
     "execution_count": 214,
     "metadata": {},
     "output_type": "execute_result"
    }
   ],
   "source": [
    "from sklearn import linear_model\n",
    "\n",
    "clf = linear_model.LogisticRegression()\n",
    "clf.fit(X_train, y_train)"
   ]
  },
  {
   "cell_type": "code",
   "execution_count": 231,
   "metadata": {},
   "outputs": [
    {
     "name": "stdout",
     "output_type": "stream",
     "text": [
      "Training socre:  0.813880126183\n",
      "Baseline score: 0.482649842271\n"
     ]
    }
   ],
   "source": [
    "print(\"Training socre: \", np.sum(clf.predict(X_train) == y_train) / len(y_train))\n",
    "print(\"Baseline score:\", np.sum(np.random.choice([1, -1], len(y_train)) == y_train) / len(y_train))"
   ]
  },
  {
   "cell_type": "markdown",
   "metadata": {},
   "source": [
    "## 3.2 Model selection"
   ]
  },
  {
   "cell_type": "code",
   "execution_count": 234,
   "metadata": {},
   "outputs": [],
   "source": [
    "def cross_validation(c, X, y, X_test, y_test):\n",
    "    clf = linear_model.LogisticRegression(C = c)\n",
    "    clf.fit(X, y)\n",
    "    train_score = np.sum(clf.predict(X) == y) / len(y)\n",
    "    test_score = np.sum(clf.predict(X_test) == y_test) / len(y_test)\n",
    "    \n",
    "    return (train_score, test_score)"
   ]
  },
  {
   "cell_type": "code",
   "execution_count": 241,
   "metadata": {},
   "outputs": [],
   "source": [
    "k=100\n",
    "lst_train = []\n",
    "lst_test = []\n",
    "lst_k = np.logspace(-10, 10 ,k)\n",
    "for c in lst_k:\n",
    "    (train_score, test_score) = cross_validation(c, X_train, y_train, X_test, y_test)\n",
    "    lst_train.append(train_score)\n",
    "    lst_test.append(test_score)\n",
    "\n",
    "train = np.array(lst_train)\n",
    "test = np.array(lst_test)"
   ]
  },
  {
   "cell_type": "code",
   "execution_count": 249,
   "metadata": {},
   "outputs": [
    {
     "data": {
      "image/png": "[encoded data removed]",
      "text/plain": [
       "<matplotlib.figure.Figure at 0x134340be0>"
      ]
     },
     "metadata": {},
     "output_type": "display_data"
    }
   ],
   "source": [
    "plt.plot(lst_k ,train)\n",
    "plt.plot(lst_k, test)\n",
    "plt.xscale('log')\n",
    "plt.legend(['train', 'test'])\n",
    "plt.show()"
   ]
  },
  {
   "cell_type": "code",
   "execution_count": 258,
   "metadata": {},
   "outputs": [
    {
     "data": {
      "text/plain": [
       "LogisticRegression(C=1, class_weight=None, dual=False, fit_intercept=True,\n",
       "          intercept_scaling=1, max_iter=100, multi_class='ovr', n_jobs=1,\n",
       "          penalty='l2', random_state=None, solver='liblinear', tol=0.0001,\n",
       "          verbose=0, warm_start=False)"
      ]
     },
     "execution_count": 258,
     "metadata": {},
     "output_type": "execute_result"
    }
   ],
   "source": [
    "clf = linear_model.LogisticRegression(C= 1)\n",
    "clf.fit(X_, y_)"
   ]
  },
  {
   "cell_type": "markdown",
   "metadata": {},
   "source": [
    "## 3.3 Predicting"
   ]
  },
  {
   "cell_type": "code",
   "execution_count": 259,
   "metadata": {},
   "outputs": [
    {
     "name": "stdout",
     "output_type": "stream",
     "text": [
      "Training socre:  0.808370044053\n",
      "Test socre:  0.784615384615\n"
     ]
    }
   ],
   "source": [
    "print(\"Training socre: \", np.sum(clf.predict(X_) == y_) / len(y_))\n",
    "print(\"Test socre: \", np.sum(clf.predict(X_test) == y_test) / len(y_test))"
   ]
  }
 ],
 "metadata": {
  "kernelspec": {
   "display_name": "Python 3",
   "language": "python",
   "name": "python3"
  },
  "language_info": {
   "codemirror_mode": {
    "name": "ipython",
    "version": 3
   },
   "file_extension": ".py",
   "mimetype": "text/x-python",
   "name": "python",
   "nbconvert_exporter": "python",
   "pygments_lexer": "ipython3",
   "version": "3.6.3"
  }
 },
 "nbformat": 4,
 "nbformat_minor": 2
}
